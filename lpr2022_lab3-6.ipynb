{
  "cells": [
    {
      "cell_type": "markdown",
      "id": "cc9180ab",
      "metadata": {
        "id": "cc9180ab"
      },
      "source": [
        "# Set."
      ]
    },
    {
      "cell_type": "markdown",
      "id": "2905a413",
      "metadata": {
        "id": "2905a413"
      },
      "source": [
        "Множество `set` в Python имеет тот же смысл, что понятие множества в математике. `Множество` содержит неупорядоченный набор элементов. Множества поддерживают стандартные математические операции над ними: *объединение, пересечение, разность*. Возможно также добавление и удаление элементов, проверка их принадлежности множеству с помощью оператора `in`. При этом все элементы входят в `set` только один раз, добавление существующего элемента не изменяет множество. Элементами множества могут быть только `неизменяемые` типы, например, его элементами не могут быть списки.\n",
        "\n",
        "### Таблица по взаимодействию элемента и множества\n",
        "Операция  | Значение \n",
        "---|---\n",
        "`x in A`  | $x \\in A$, принадлежит ли элемент x множеству A \n",
        "`x not in A`  | $x \\notin A$ — то же, что `not (x in A)`\n",
        "`A.add(x)`  | добавить элемент x в множество A \n",
        "`A.discard(x)`  | удалить элемент x из множества A \n",
        "`A.remove(x)`  | удалить элемент x из множества A \n",
        "`A.pop()`  | удаляет из множества один случайный элемент и возвращает его "
      ]
    },
    {
      "cell_type": "code",
      "execution_count": 1,
      "id": "b764f6e7",
      "metadata": {
        "colab": {
          "base_uri": "https://localhost:8080/"
        },
        "id": "b764f6e7",
        "outputId": "1f9c22eb-b12b-44a2-ba06-9aca37ef1d6d"
      },
      "outputs": [
        {
          "output_type": "stream",
          "name": "stdout",
          "text": [
            "{1, 2, 3, 4}\n"
          ]
        }
      ],
      "source": [
        "a = {1, 2, 3}\n",
        "a.add(4)\n",
        "print(a)"
      ]
    },
    {
      "cell_type": "code",
      "execution_count": 2,
      "id": "10b6998a",
      "metadata": {
        "colab": {
          "base_uri": "https://localhost:8080/"
        },
        "id": "10b6998a",
        "outputId": "327a41ca-88f9-4138-b407-417569216614"
      },
      "outputs": [
        {
          "output_type": "stream",
          "name": "stdout",
          "text": [
            "{1, 2, 3, 4}\n"
          ]
        }
      ],
      "source": [
        "a.add(1)\n",
        "print(a)"
      ]
    },
    {
      "cell_type": "code",
      "execution_count": 3,
      "id": "8feef037",
      "metadata": {
        "colab": {
          "base_uri": "https://localhost:8080/"
        },
        "id": "8feef037",
        "outputId": "45a4cd48-a42c-4c12-80ff-b6250238f6d4"
      },
      "outputs": [
        {
          "output_type": "stream",
          "name": "stdout",
          "text": [
            "False True\n"
          ]
        }
      ],
      "source": [
        "print(0 in a, 1 in a)"
      ]
    },
    {
      "cell_type": "markdown",
      "id": "96713d33",
      "metadata": {
        "id": "96713d33"
      },
      "source": [
        "Для удаления элементов из множества можно использовать `discard` и `remove`, их поведение различается тогда, когда удаляемый элемент отсутствует в множестве: `discard` не делает ничего, а метод `remove` генерирует исключение `KeyError`, которое вы увидите в одной из ячеек ниже."
      ]
    },
    {
      "cell_type": "code",
      "execution_count": 4,
      "id": "a59d5948",
      "metadata": {
        "colab": {
          "base_uri": "https://localhost:8080/"
        },
        "id": "a59d5948",
        "outputId": "68c5deab-7bd3-4fa2-fa1a-adfcc0f938c3"
      },
      "outputs": [
        {
          "output_type": "stream",
          "name": "stdout",
          "text": [
            "{2, 3, 4}\n"
          ]
        }
      ],
      "source": [
        "a.remove(1)\n",
        "print(a)"
      ]
    },
    {
      "cell_type": "code",
      "execution_count": 5,
      "id": "b33b0ea5",
      "metadata": {
        "colab": {
          "base_uri": "https://localhost:8080/",
          "height": 181
        },
        "id": "b33b0ea5",
        "outputId": "5193a0db-a97f-4868-f613-dcaf686b1375"
      },
      "outputs": [
        {
          "output_type": "error",
          "ename": "KeyError",
          "evalue": "ignored",
          "traceback": [
            "\u001b[0;31m---------------------------------------------------------------------------\u001b[0m",
            "\u001b[0;31mKeyError\u001b[0m                                  Traceback (most recent call last)",
            "\u001b[0;32m<ipython-input-5-e7d02a77f7c4>\u001b[0m in \u001b[0;36m<module>\u001b[0;34m\u001b[0m\n\u001b[0;32m----> 1\u001b[0;31m \u001b[0ma\u001b[0m\u001b[0;34m.\u001b[0m\u001b[0mremove\u001b[0m\u001b[0;34m(\u001b[0m\u001b[0;36m0\u001b[0m\u001b[0;34m)\u001b[0m\u001b[0;34m\u001b[0m\u001b[0;34m\u001b[0m\u001b[0m\n\u001b[0m\u001b[1;32m      2\u001b[0m \u001b[0mprint\u001b[0m\u001b[0;34m(\u001b[0m\u001b[0ma\u001b[0m\u001b[0;34m)\u001b[0m\u001b[0;34m\u001b[0m\u001b[0;34m\u001b[0m\u001b[0m\n",
            "\u001b[0;31mKeyError\u001b[0m: 0"
          ]
        }
      ],
      "source": [
        "a.remove(0)\n",
        "print(a)"
      ]
    },
    {
      "cell_type": "code",
      "execution_count": 6,
      "id": "c1a18deb",
      "metadata": {
        "colab": {
          "base_uri": "https://localhost:8080/"
        },
        "id": "c1a18deb",
        "outputId": "ec8328e0-16b4-4ebd-eb77-462536a83540"
      },
      "outputs": [
        {
          "output_type": "stream",
          "name": "stdout",
          "text": [
            "{2, 3, 4}\n"
          ]
        }
      ],
      "source": [
        "print(a)"
      ]
    },
    {
      "cell_type": "code",
      "execution_count": 7,
      "id": "bae1b5de",
      "metadata": {
        "colab": {
          "base_uri": "https://localhost:8080/"
        },
        "id": "bae1b5de",
        "outputId": "8e6e4a43-ef9d-40c4-fe0d-b975492bddbd"
      },
      "outputs": [
        {
          "output_type": "stream",
          "name": "stdout",
          "text": [
            "{3, 4}\n"
          ]
        }
      ],
      "source": [
        "a.discard(2)\n",
        "print(a)"
      ]
    },
    {
      "cell_type": "code",
      "execution_count": 8,
      "id": "27de8b15",
      "metadata": {
        "colab": {
          "base_uri": "https://localhost:8080/"
        },
        "id": "27de8b15",
        "outputId": "1c132e7f-7ce2-4519-dd03-9385860a196f"
      },
      "outputs": [
        {
          "output_type": "stream",
          "name": "stdout",
          "text": [
            "{3, 4}\n"
          ]
        }
      ],
      "source": [
        "a.discard(0)\n",
        "print(a)"
      ]
    },
    {
      "cell_type": "markdown",
      "id": "5f4bca28",
      "metadata": {
        "id": "5f4bca28"
      },
      "source": [
        "Для создания пустого множества или для получения множества из *итерируемого* объекта можно использовать конструктор множеств `set`:"
      ]
    },
    {
      "cell_type": "code",
      "execution_count": 9,
      "id": "68ccf6f0",
      "metadata": {
        "colab": {
          "base_uri": "https://localhost:8080/"
        },
        "id": "68ccf6f0",
        "outputId": "9279cd33-1eac-4c26-8bf9-29142eadacdf"
      },
      "outputs": [
        {
          "output_type": "stream",
          "name": "stdout",
          "text": [
            "set()\n",
            "{1}\n"
          ]
        }
      ],
      "source": [
        "a = set()\n",
        "print(a)\n",
        "a.add(1)\n",
        "print(a)"
      ]
    },
    {
      "cell_type": "markdown",
      "id": "01353f80",
      "metadata": {
        "id": "01353f80"
      },
      "source": [
        "Конструкция ниже не работает, потому что фигурные скобки используются для создания пустых словарей `dict`, о которых будет сказано ниже."
      ]
    },
    {
      "cell_type": "code",
      "execution_count": 10,
      "id": "73ca6b59",
      "metadata": {
        "colab": {
          "base_uri": "https://localhost:8080/",
          "height": 232
        },
        "id": "73ca6b59",
        "outputId": "43584723-dd69-4e89-e1d3-75b066aa16ab"
      },
      "outputs": [
        {
          "output_type": "stream",
          "name": "stdout",
          "text": [
            "{}\n"
          ]
        },
        {
          "output_type": "error",
          "ename": "AttributeError",
          "evalue": "ignored",
          "traceback": [
            "\u001b[0;31m---------------------------------------------------------------------------\u001b[0m",
            "\u001b[0;31mAttributeError\u001b[0m                            Traceback (most recent call last)",
            "\u001b[0;32m<ipython-input-10-c229c9b03979>\u001b[0m in \u001b[0;36m<module>\u001b[0;34m\u001b[0m\n\u001b[1;32m      1\u001b[0m \u001b[0ma\u001b[0m \u001b[0;34m=\u001b[0m \u001b[0;34m{\u001b[0m\u001b[0;34m}\u001b[0m\u001b[0;34m\u001b[0m\u001b[0;34m\u001b[0m\u001b[0m\n\u001b[1;32m      2\u001b[0m \u001b[0mprint\u001b[0m\u001b[0;34m(\u001b[0m\u001b[0ma\u001b[0m\u001b[0;34m)\u001b[0m\u001b[0;34m\u001b[0m\u001b[0;34m\u001b[0m\u001b[0m\n\u001b[0;32m----> 3\u001b[0;31m \u001b[0ma\u001b[0m\u001b[0;34m.\u001b[0m\u001b[0madd\u001b[0m\u001b[0;34m(\u001b[0m\u001b[0;36m1\u001b[0m\u001b[0;34m)\u001b[0m\u001b[0;34m\u001b[0m\u001b[0;34m\u001b[0m\u001b[0m\n\u001b[0m\u001b[1;32m      4\u001b[0m \u001b[0mprint\u001b[0m\u001b[0;34m(\u001b[0m\u001b[0ma\u001b[0m\u001b[0;34m)\u001b[0m\u001b[0;34m\u001b[0m\u001b[0;34m\u001b[0m\u001b[0m\n",
            "\u001b[0;31mAttributeError\u001b[0m: 'dict' object has no attribute 'add'"
          ]
        }
      ],
      "source": [
        "a = {}\n",
        "print(a)\n",
        "a.add(1)\n",
        "print(a)"
      ]
    },
    {
      "cell_type": "code",
      "execution_count": 11,
      "id": "a2c72d10",
      "metadata": {
        "colab": {
          "base_uri": "https://localhost:8080/"
        },
        "id": "a2c72d10",
        "outputId": "0068e7f3-b405-451e-8f0e-7f68e8ba0dd9"
      },
      "outputs": [
        {
          "output_type": "stream",
          "name": "stdout",
          "text": [
            "{1, 2, 3, 4}\n"
          ]
        }
      ],
      "source": [
        "a = [1, 2, 3, 4]\n",
        "print(set(a))"
      ]
    },
    {
      "cell_type": "code",
      "execution_count": 12,
      "id": "6aec8e48",
      "metadata": {
        "colab": {
          "base_uri": "https://localhost:8080/"
        },
        "id": "6aec8e48",
        "outputId": "38274277-3b9c-4f9b-dc0d-2ea3f6368c30"
      },
      "outputs": [
        {
          "output_type": "stream",
          "name": "stdout",
          "text": [
            "{1, 2, 3, 4}\n"
          ]
        }
      ],
      "source": [
        "a = [1, 2, 3, 4, 1]\n",
        "print(set(a))"
      ]
    },
    {
      "cell_type": "code",
      "execution_count": 13,
      "id": "5f28094e",
      "metadata": {
        "colab": {
          "base_uri": "https://localhost:8080/"
        },
        "id": "5f28094e",
        "outputId": "2b8b5ce6-18cd-433d-a2d3-9b28b2cef75e"
      },
      "outputs": [
        {
          "output_type": "stream",
          "name": "stdout",
          "text": [
            "{'d', 'a', 'b', 'c'}\n"
          ]
        }
      ],
      "source": [
        "a = \"abcd\"\n",
        "print(set(a))"
      ]
    },
    {
      "cell_type": "code",
      "execution_count": 14,
      "id": "1f6a55db",
      "metadata": {
        "colab": {
          "base_uri": "https://localhost:8080/"
        },
        "id": "1f6a55db",
        "outputId": "3eee99b2-1b0f-45eb-f1bc-127c4585bd17"
      },
      "outputs": [
        {
          "output_type": "stream",
          "name": "stdout",
          "text": [
            "{'d', 'a', 'b', 'c'}\n"
          ]
        }
      ],
      "source": [
        "a = \"abcda\"\n",
        "print(set(a))"
      ]
    },
    {
      "cell_type": "markdown",
      "id": "b22ea5f0",
      "metadata": {
        "id": "b22ea5f0"
      },
      "source": [
        "Операции над множествами можно записывать как коротко символами, так и названиями соответствующих функций:"
      ]
    },
    {
      "cell_type": "code",
      "execution_count": 15,
      "id": "09c3ec60",
      "metadata": {
        "colab": {
          "base_uri": "https://localhost:8080/"
        },
        "id": "09c3ec60",
        "outputId": "503ce352-169c-4751-8490-996ec152e68e"
      },
      "outputs": [
        {
          "output_type": "stream",
          "name": "stdout",
          "text": [
            "{1, 2, 3, 4, 5, 6}\n",
            "{1, 2, 3, 4, 5, 6}\n"
          ]
        }
      ],
      "source": [
        "a = {1, 2, 3, 4}\n",
        "b = {3, 4, 5, 6}\n",
        "print(a.union(b))\n",
        "print(a | b)"
      ]
    },
    {
      "cell_type": "code",
      "execution_count": 16,
      "id": "6f286d8d",
      "metadata": {
        "colab": {
          "base_uri": "https://localhost:8080/"
        },
        "id": "6f286d8d",
        "outputId": "669f3d88-486c-4002-af59-1d40b66b3619"
      },
      "outputs": [
        {
          "output_type": "stream",
          "name": "stdout",
          "text": [
            "{3, 4}\n",
            "{3, 4}\n"
          ]
        }
      ],
      "source": [
        "a = {1, 2, 3, 4}\n",
        "b = {3, 4, 5, 6}\n",
        "print(a.intersection(b))\n",
        "print(a & b)"
      ]
    },
    {
      "cell_type": "code",
      "execution_count": 17,
      "id": "14b1a2b6",
      "metadata": {
        "colab": {
          "base_uri": "https://localhost:8080/"
        },
        "id": "14b1a2b6",
        "outputId": "f7956119-bc51-4e7d-e760-dd37b41ba9bb"
      },
      "outputs": [
        {
          "output_type": "stream",
          "name": "stdout",
          "text": [
            "{1, 2}\n",
            "{1, 2}\n"
          ]
        }
      ],
      "source": [
        "a = {1, 2, 3, 4}\n",
        "b = {3, 4, 5, 6}\n",
        "print(a.difference(b))\n",
        "print(a - b)"
      ]
    },
    {
      "cell_type": "markdown",
      "id": "99ecf48b",
      "metadata": {
        "id": "99ecf48b"
      },
      "source": [
        "Симметрическая разность двух множеств - множество, состоящее из элементов, входящих в одно и только одно из данных множеств:"
      ]
    },
    {
      "cell_type": "code",
      "execution_count": 18,
      "id": "f58dd2af",
      "metadata": {
        "colab": {
          "base_uri": "https://localhost:8080/"
        },
        "id": "f58dd2af",
        "outputId": "4bdfd487-62f7-4e42-a6a9-d8bd59c8a809"
      },
      "outputs": [
        {
          "output_type": "stream",
          "name": "stdout",
          "text": [
            "{1, 2, 5, 6}\n",
            "{1, 2, 5, 6}\n"
          ]
        }
      ],
      "source": [
        "a = {1, 2, 3, 4}\n",
        "b = {3, 4, 5, 6}\n",
        "print(a.symmetric_difference(b))\n",
        "print(a ^ b)"
      ]
    },
    {
      "cell_type": "code",
      "execution_count": 19,
      "id": "2fd6de37",
      "metadata": {
        "colab": {
          "base_uri": "https://localhost:8080/"
        },
        "id": "2fd6de37",
        "outputId": "42cd5f47-c2bb-4afc-d015-276c2d3445ec"
      },
      "outputs": [
        {
          "output_type": "stream",
          "name": "stdout",
          "text": [
            "False\n",
            "False\n",
            "True\n",
            "True\n"
          ]
        }
      ],
      "source": [
        "a = {1, 2, 3, 4}\n",
        "b = {3, 4, 5, 6}\n",
        "print(a <= b)\n",
        "print(a.issubset(b))\n",
        "\n",
        "c = {3, 4}\n",
        "d = {3, 4, 5, 6}\n",
        "print(c <= d)\n",
        "print(c.issubset(d))"
      ]
    },
    {
      "cell_type": "code",
      "execution_count": 20,
      "id": "794fe0bb",
      "metadata": {
        "colab": {
          "base_uri": "https://localhost:8080/"
        },
        "id": "794fe0bb",
        "outputId": "f113325d-44ce-4972-8173-cc54de79c65b"
      },
      "outputs": [
        {
          "output_type": "stream",
          "name": "stdout",
          "text": [
            "True\n",
            "False\n"
          ]
        }
      ],
      "source": [
        "a = {3, 4, 5, 6}\n",
        "b = {3, 4, 5, 6}\n",
        "print(a <= b)\n",
        "print(a < b)"
      ]
    },
    {
      "cell_type": "markdown",
      "id": "e978e84a",
      "metadata": {
        "id": "e978e84a"
      },
      "source": [
        "Существуют также операции наподобие `+=`, `-=`, `*=`, `/=`, `//=`:"
      ]
    },
    {
      "cell_type": "code",
      "execution_count": 21,
      "id": "c3e59589",
      "metadata": {
        "colab": {
          "base_uri": "https://localhost:8080/"
        },
        "id": "c3e59589",
        "outputId": "e3011af1-36a4-47a3-e074-da006ab79b34"
      },
      "outputs": [
        {
          "output_type": "stream",
          "name": "stdout",
          "text": [
            "{3, 4}\n"
          ]
        }
      ],
      "source": [
        "a = {1, 2, 3, 4}\n",
        "b = {3, 4, 5, 6}\n",
        "a &= b\n",
        "print(a)"
      ]
    },
    {
      "cell_type": "code",
      "execution_count": 22,
      "id": "82ff0931",
      "metadata": {
        "colab": {
          "base_uri": "https://localhost:8080/"
        },
        "id": "82ff0931",
        "outputId": "359af78c-e85c-4ace-9257-5c646925352e"
      },
      "outputs": [
        {
          "output_type": "stream",
          "name": "stdout",
          "text": [
            "{3, 4}\n"
          ]
        }
      ],
      "source": [
        "a = {1, 2, 3, 4}\n",
        "b = {3, 4, 5, 6}\n",
        "a.intersection_update(b)\n",
        "print(a)"
      ]
    },
    {
      "cell_type": "code",
      "execution_count": 23,
      "id": "9e19f911",
      "metadata": {
        "colab": {
          "base_uri": "https://localhost:8080/"
        },
        "id": "9e19f911",
        "outputId": "0e5bdedb-2fdd-4289-9df4-570a55cae71c"
      },
      "outputs": [
        {
          "output_type": "stream",
          "name": "stdout",
          "text": [
            "{1, 2, 3, 4, 5, 6}\n"
          ]
        }
      ],
      "source": [
        "a = {1, 2, 3, 4}\n",
        "b = {3, 4, 5, 6}\n",
        "a |= b\n",
        "print(a)"
      ]
    },
    {
      "cell_type": "code",
      "execution_count": 24,
      "id": "3e07d561",
      "metadata": {
        "colab": {
          "base_uri": "https://localhost:8080/"
        },
        "id": "3e07d561",
        "outputId": "8b171b65-9c0e-492b-a050-5b1637b32697"
      },
      "outputs": [
        {
          "output_type": "stream",
          "name": "stdout",
          "text": [
            "{1, 2, 3, 4, 5, 6}\n"
          ]
        }
      ],
      "source": [
        "a = {1, 2, 3, 4}\n",
        "b = {3, 4, 5, 6}\n",
        "a.update(b)\n",
        "print(a)"
      ]
    },
    {
      "cell_type": "code",
      "execution_count": 25,
      "id": "beabdba5",
      "metadata": {
        "colab": {
          "base_uri": "https://localhost:8080/"
        },
        "id": "beabdba5",
        "outputId": "13898ad1-d057-4c5a-babc-7c7c20f560c8"
      },
      "outputs": [
        {
          "output_type": "stream",
          "name": "stdout",
          "text": [
            "{1, 2}\n"
          ]
        }
      ],
      "source": [
        "a = {1, 2, 3, 4}\n",
        "b = {3, 4, 5, 6}\n",
        "a -= b\n",
        "print(a)"
      ]
    },
    {
      "cell_type": "code",
      "execution_count": 26,
      "id": "0ccfb2a9",
      "metadata": {
        "colab": {
          "base_uri": "https://localhost:8080/"
        },
        "id": "0ccfb2a9",
        "outputId": "855bb18d-3224-444b-e81f-0706ba9e96f8"
      },
      "outputs": [
        {
          "output_type": "stream",
          "name": "stdout",
          "text": [
            "{1, 2}\n"
          ]
        }
      ],
      "source": [
        "a = {1, 2, 3, 4}\n",
        "b = {3, 4, 5, 6}\n",
        "a.difference_update(b)\n",
        "print(a)"
      ]
    },
    {
      "cell_type": "markdown",
      "id": "c6ac45f8",
      "metadata": {
        "id": "c6ac45f8"
      },
      "source": [
        "### Сводная таблица операций с множествами:\n",
        "Операция  | Альтернатива | Значение \n",
        "---|---|---\n",
        "`A \\| B` | `A.union(B)`  | Возвращает множество, являющееся объединением множеств A и B. \n",
        "`A \\|= B` | `A.update(B)` | Записывает в A объединение множеств A и B. \n",
        "`A & B` | `A.intersection(B)`  | Возвращает множество, являющееся пересечением множеств A и B. \n",
        "`A &= B` | `A.intersection_update(B)`  | Записывает в A пересечение множеств A и B. \n",
        "`A - B` | `A.difference(B)`  | Возвращает разность множеств A и B (элементы, входящие в A, но не входящие в B). \n",
        "`A -= B` | `A.difference_update(B)`  | Записывает в A разность множеств A и B. \n",
        "`A ^ B` | `A.symmetric_difference(B)`  | Возвращает симметрическую разность множеств A и B (элементы, входящие в A или в B, но не в оба из них одновременно). \n",
        "`A ^= B` | `A.symmetric_difference_update(B)`  | Записывает в A симметрическую разность множеств A и B. \n",
        "`A <= B` | `A.issubset(B)`  | Возвращает True, если A является подмножеством B. \n",
        "`A >= B` | `A.issuperset(B)`  | Возвращает True, если B является подмножеством A. \n",
        "`A < B`  | | Эквивалентно A <= B and A != B \n",
        "`A > B`  | | Эквивалентно A >= B and A != B \n",
        "\n",
        "\n"
      ]
    },
    {
      "cell_type": "markdown",
      "id": "203fa32c",
      "metadata": {
        "id": "203fa32c"
      },
      "source": [
        "**Упражнение 0**. Вывести на экран все элементы множества A, которых нет в множестве B. Дописать код ниже."
      ]
    },
    {
      "cell_type": "code",
      "execution_count": 27,
      "id": "2f7da262",
      "metadata": {
        "colab": {
          "base_uri": "https://localhost:8080/"
        },
        "id": "2f7da262",
        "outputId": "2e638380-2d10-47c0-94c3-4b303fbb613a"
      },
      "outputs": [
        {
          "output_type": "stream",
          "name": "stdout",
          "text": [
            "{'w', 'p', 'l', 'q', 'f'}\n"
          ]
        }
      ],
      "source": [
        "A = set('bqlpzlkwehrlulsdhfliuywemrlkjhsdlfjhlzxcovt')\n",
        "B = set('zmxcvnboaiyerjhbziuxdytvasenbriutsdvinjhgik')\n",
        "C = A - B\n",
        "print(C)"
      ]
    },
    {
      "cell_type": "markdown",
      "id": "3661d47e",
      "metadata": {
        "id": "3661d47e"
      },
      "source": [
        "**Упражнение 1.** Считать через `input` строку, состоящую из 3 слов и найти буквы, входящие в каждое из слов."
      ]
    },
    {
      "cell_type": "code",
      "execution_count": 38,
      "id": "d5aa2772",
      "metadata": {
        "colab": {
          "base_uri": "https://localhost:8080/"
        },
        "id": "d5aa2772",
        "outputId": "f120f162-528e-46b6-dcc4-7fd514214fa3"
      },
      "outputs": [
        {
          "output_type": "stream",
          "name": "stdout",
          "text": [
            "hello hi konichiwa\n",
            "{'h'}\n"
          ]
        }
      ],
      "source": [
        "x = input()\n",
        "x, y, z = list(x.split())\n",
        "x = set(x)\n",
        "y = set(y)\n",
        "z = set(z)\n",
        "print((x & y) & z)"
      ]
    },
    {
      "cell_type": "markdown",
      "id": "b18e5d22",
      "metadata": {
        "id": "b18e5d22"
      },
      "source": [
        "**Упражнение 2.** Считать через `input` строку, состоящую из произвольного числа слов и найти буквы, входящие в каждое из слов."
      ]
    },
    {
      "cell_type": "code",
      "execution_count": 40,
      "id": "157e055b",
      "metadata": {
        "colab": {
          "base_uri": "https://localhost:8080/"
        },
        "id": "157e055b",
        "outputId": "c505b850-5f0f-491a-9167-46d5839fad21"
      },
      "outputs": [
        {
          "output_type": "stream",
          "name": "stdout",
          "text": [
            "hello hi konichiwa\n",
            "{'h'}\n"
          ]
        }
      ],
      "source": [
        "string = input()\n",
        "nstr = string.split()\n",
        "firstel = set(nstr[0])\n",
        "for i in nstr:\n",
        "  firstel = firstel & set(i)\n",
        "print(firstel)  "
      ]
    },
    {
      "cell_type": "markdown",
      "id": "e3534537",
      "metadata": {
        "id": "e3534537"
      },
      "source": [
        "**Упражнение 3\\*.** Считать через `input` несколько чисел через пробел и найти цифры, входящие в каждое из чисел. Использовать `while`."
      ]
    },
    {
      "cell_type": "code",
      "execution_count": 48,
      "id": "8808e2e6",
      "metadata": {
        "colab": {
          "base_uri": "https://localhost:8080/"
        },
        "id": "8808e2e6",
        "outputId": "f8265c8c-8ef1-4f2a-9bc1-017850051568"
      },
      "outputs": [
        {
          "output_type": "stream",
          "name": "stdout",
          "text": [
            "3 34 35 36 34\n",
            "[3]\n"
          ]
        }
      ],
      "source": [
        "string = input()\n",
        "nstr = string.split()\n",
        "numbers = []\n",
        "for i in nstr:\n",
        "  a = []\n",
        "  for j in i:\n",
        "    a.append(j)\n",
        "  numbers.append(a)\n",
        "total = set(numbers[0])\n",
        "for i in numbers:\n",
        "  total = total & set(i)\n",
        "print(list(map(int, total)))"
      ]
    },
    {
      "cell_type": "markdown",
      "id": "4c401aa6",
      "metadata": {
        "id": "4c401aa6"
      },
      "source": [
        "# Dict."
      ]
    },
    {
      "cell_type": "markdown",
      "id": "b1a52ec5",
      "metadata": {
        "id": "b1a52ec5"
      },
      "source": [
        "Кроме множеств также часто используются словари. Элемент словаря `dict` - это пара `ключ: значение`.\n",
        "Ключи позволяют обращаться к данным не по индексу, как это реализовано в списках, а по любому удобному значению.\n",
        "\n",
        "### Сводная таблица по операциям со словарями:\n",
        "Операция  | Значение \n",
        "---|---\n",
        "`value = A[key]` | Получение элемента по ключу. Если элемента с заданным ключом в словаре нет, то возникает исключение KeyError. \n",
        "`value = A.get(key)` | Получение элемента по ключу. Если элемента в словаре нет, то get возвращает None. \n",
        "`value = A.get(key, default_value)` | То же, но вместо None метод get возвращает default_value. \n",
        "`key in A` | Проверить принадлежность ключа словарю. \n",
        "`key not in A` | То же, что not key in A. \n",
        "`A[key] = value` | Добавление нового элемента в словарь. \n",
        "`del A[key]` | Удаление пары ключ-значение с ключом key. Возбуждает исключение KeyError, если такого ключа нет. \n",
        "`if key in A: del A[key]` | Удаление пары ключ-значение с предварительной проверкой наличия ключа. \n",
        "`value = A.pop(key)` | Удаление пары ключ-значение с ключом key и возврат значения удаляемого элемента.Если такого ключа нет, то возбуждается KeyError. \n",
        "`value = A.pop(key, default_value)` | То же, но вместо генерации исключения возвращается default_value. \n",
        "`A.pop(key, None)` | Это позволяет проще всего организовать безопасное удаление элемента из словаря. \n",
        "`len(A)` | Возвращает количество пар ключ-значение, хранящихся в словаре. \n"
      ]
    },
    {
      "cell_type": "code",
      "execution_count": 1,
      "id": "b85122e9",
      "metadata": {
        "colab": {
          "base_uri": "https://localhost:8080/"
        },
        "id": "b85122e9",
        "outputId": "935e71af-a404-443f-9ec6-93e7d6bbfb9c"
      },
      "outputs": [
        {
          "output_type": "stream",
          "name": "stdout",
          "text": [
            "Берлин\n"
          ]
        }
      ],
      "source": [
        "d = {\"Россия\": \"Москва\", \"Франция\": \"Париж\", \"Германия\": \"Берлин\"}\n",
        "print(d[\"Германия\"])"
      ]
    },
    {
      "cell_type": "markdown",
      "id": "eef7c663",
      "metadata": {
        "id": "eef7c663"
      },
      "source": [
        "Такой способ хранения данных в данном случае является более естественным и удобным. Создание словаря и добавление элементов:"
      ]
    },
    {
      "cell_type": "code",
      "execution_count": 2,
      "id": "612972f3",
      "metadata": {
        "colab": {
          "base_uri": "https://localhost:8080/"
        },
        "id": "612972f3",
        "outputId": "b4807809-9998-4a86-d123-e4965c34af07"
      },
      "outputs": [
        {
          "output_type": "stream",
          "name": "stdout",
          "text": [
            "{'Россия': 'Москва'}\n"
          ]
        }
      ],
      "source": [
        "d = dict()\n",
        "d[\"Россия\"] = \"Москва\"\n",
        "print(d)"
      ]
    },
    {
      "cell_type": "markdown",
      "id": "fb99a70b",
      "metadata": {
        "id": "fb99a70b"
      },
      "source": [
        "Можно обращаться к ключам словаря, к значениям словаря, итерировать по ключам и по парам ключ-значение."
      ]
    },
    {
      "cell_type": "code",
      "execution_count": 3,
      "id": "0c99a37e",
      "metadata": {
        "colab": {
          "base_uri": "https://localhost:8080/"
        },
        "id": "0c99a37e",
        "outputId": "561d97a4-fca4-45bc-c09b-bfd79f360a98"
      },
      "outputs": [
        {
          "output_type": "stream",
          "name": "stdout",
          "text": [
            "dict_keys(['Россия', 'Франция', 'Германия'])\n",
            "dict_values(['Москва', 'Париж', 'Берлин'])\n"
          ]
        }
      ],
      "source": [
        "d = {\"Россия\": \"Москва\", \"Франция\": \"Париж\", \"Германия\": \"Берлин\"}\n",
        "print(d.keys())\n",
        "print(d.values())"
      ]
    },
    {
      "cell_type": "code",
      "execution_count": 4,
      "id": "c4c30767",
      "metadata": {
        "colab": {
          "base_uri": "https://localhost:8080/"
        },
        "id": "c4c30767",
        "outputId": "3a9195a3-9df6-4686-e0aa-c8b9dac948ba"
      },
      "outputs": [
        {
          "output_type": "stream",
          "name": "stdout",
          "text": [
            "Москва\n",
            "Париж\n",
            "Берлин\n"
          ]
        }
      ],
      "source": [
        "for k in d.keys():\n",
        "    print(d[k])"
      ]
    },
    {
      "cell_type": "code",
      "execution_count": 5,
      "id": "95a8fdf1",
      "metadata": {
        "colab": {
          "base_uri": "https://localhost:8080/"
        },
        "id": "95a8fdf1",
        "outputId": "80ad9082-51a4-40d0-df85-d4b6845eaa04"
      },
      "outputs": [
        {
          "output_type": "stream",
          "name": "stdout",
          "text": [
            "Россия Москва\n",
            "Франция Париж\n",
            "Германия Берлин\n"
          ]
        }
      ],
      "source": [
        "for k, v in d.items():\n",
        "    print(k, v)"
      ]
    },
    {
      "cell_type": "code",
      "execution_count": 6,
      "id": "7304ca5e",
      "metadata": {
        "colab": {
          "base_uri": "https://localhost:8080/"
        },
        "id": "7304ca5e",
        "outputId": "e92c6f6d-b233-41fd-ddc8-c2a3e9822de7"
      },
      "outputs": [
        {
          "output_type": "stream",
          "name": "stdout",
          "text": [
            "dict_items([('Россия', 'Москва'), ('Франция', 'Париж'), ('Германия', 'Берлин')])\n"
          ]
        }
      ],
      "source": [
        "print(d.items())"
      ]
    },
    {
      "cell_type": "code",
      "execution_count": 7,
      "id": "5c088447",
      "metadata": {
        "colab": {
          "base_uri": "https://localhost:8080/"
        },
        "id": "5c088447",
        "outputId": "e7ad8e0b-a617-4cba-a261-2e3191948c2c"
      },
      "outputs": [
        {
          "output_type": "stream",
          "name": "stdout",
          "text": [
            "[('Россия', 'Москва'), ('Франция', 'Париж'), ('Германия', 'Берлин')]\n"
          ]
        }
      ],
      "source": [
        "print(list(d.items()))"
      ]
    },
    {
      "cell_type": "markdown",
      "id": "f6560523",
      "metadata": {
        "id": "f6560523"
      },
      "source": [
        "Можем сортировать такие объекты, например, по странам в лексикографическом порядке:"
      ]
    },
    {
      "cell_type": "code",
      "execution_count": 8,
      "id": "c84c8635",
      "metadata": {
        "colab": {
          "base_uri": "https://localhost:8080/"
        },
        "id": "c84c8635",
        "outputId": "6fb58b32-d40e-47ae-b7f9-e41ef1d27d22"
      },
      "outputs": [
        {
          "output_type": "stream",
          "name": "stdout",
          "text": [
            "[('Германия', 'Берлин'), ('Россия', 'Москва'), ('Франция', 'Париж')]\n"
          ]
        }
      ],
      "source": [
        "d = list(d.items())\n",
        "d = sorted(d, key = lambda x: x[0])\n",
        "print(d)"
      ]
    },
    {
      "cell_type": "markdown",
      "id": "59e0e44f",
      "metadata": {
        "id": "59e0e44f"
      },
      "source": [
        "# Set comprehensions. Dict comprehensions."
      ]
    },
    {
      "cell_type": "markdown",
      "id": "83b2e7ad",
      "metadata": {
        "id": "83b2e7ad"
      },
      "source": [
        "Можно генерировать множества и словари по аналогии со списками:"
      ]
    },
    {
      "cell_type": "code",
      "execution_count": 9,
      "id": "e19ab542",
      "metadata": {
        "colab": {
          "base_uri": "https://localhost:8080/"
        },
        "id": "e19ab542",
        "outputId": "a98455da-664d-4d08-bee6-f4f865b7cf9c"
      },
      "outputs": [
        {
          "output_type": "stream",
          "name": "stdout",
          "text": [
            "[-5, -4, -3, -2, -1, 0, 1, 2, 3, 4]\n",
            "{0, 1, 2, 3, 4, -1, -5, -4, -3, -2}\n",
            "[5, 4, 3, 2, 1, 0, 1, 2, 3, 4]\n",
            "{0, 1, 2, 3, 4, 5}\n"
          ]
        }
      ],
      "source": [
        "a = [i for i in range(-5, 5)]\n",
        "print(a)\n",
        "a = {i for i in range(-5, 5)}\n",
        "print(a)\n",
        "a = [abs(i) for i in range(-5, 5)]\n",
        "print(a)\n",
        "a = {abs(i) for i in range(-5, 5)}\n",
        "print(a)"
      ]
    },
    {
      "cell_type": "markdown",
      "id": "5e1eae9b",
      "metadata": {
        "id": "5e1eae9b"
      },
      "source": [
        "Для определения порядкового номера символа в таблице символов ASCII используется функция `ord`:"
      ]
    },
    {
      "cell_type": "code",
      "execution_count": 10,
      "id": "0a141a96",
      "metadata": {
        "colab": {
          "base_uri": "https://localhost:8080/"
        },
        "id": "0a141a96",
        "outputId": "8832dc89-52ca-4b0a-eb1d-e76b30124898"
      },
      "outputs": [
        {
          "output_type": "stream",
          "name": "stdout",
          "text": [
            "97\n",
            "65 90 97 122\n"
          ]
        }
      ],
      "source": [
        "s = \"a\"\n",
        "print(ord(s))\n",
        "print(ord('A'), ord('Z'), ord('a'), ord('z'))"
      ]
    },
    {
      "cell_type": "markdown",
      "id": "8ce05fc6",
      "metadata": {
        "id": "8ce05fc6"
      },
      "source": [
        "Обратная к ней функция, возвращающая символ по его порядковому номеру - `chr`:"
      ]
    },
    {
      "cell_type": "code",
      "execution_count": 11,
      "id": "0974a43c",
      "metadata": {
        "colab": {
          "base_uri": "https://localhost:8080/"
        },
        "id": "0974a43c",
        "outputId": "8cab5376-e161-4753-8ad6-2dfabcee1205"
      },
      "outputs": [
        {
          "output_type": "stream",
          "name": "stdout",
          "text": [
            "A Z a z\n"
          ]
        }
      ],
      "source": [
        "print(chr(65), chr(90), chr(97), chr(122))"
      ]
    },
    {
      "cell_type": "markdown",
      "id": "cb0ffe6d",
      "metadata": {
        "id": "cb0ffe6d"
      },
      "source": [
        "Создадим словарь, состоящий из пар элементов `номер буквы в таблице ASCII`: `буква`."
      ]
    },
    {
      "cell_type": "code",
      "execution_count": 12,
      "id": "4aed5b7e",
      "metadata": {
        "colab": {
          "base_uri": "https://localhost:8080/"
        },
        "id": "4aed5b7e",
        "outputId": "d9c0aed6-aead-4e87-df67-73c905423607"
      },
      "outputs": [
        {
          "output_type": "stream",
          "name": "stdout",
          "text": [
            "{65: 'A', 66: 'B', 67: 'C', 68: 'D', 69: 'E', 70: 'F', 71: 'G', 72: 'H', 73: 'I', 74: 'J', 75: 'K', 76: 'L', 77: 'M', 78: 'N', 79: 'O', 80: 'P', 81: 'Q', 82: 'R', 83: 'S', 84: 'T', 85: 'U', 86: 'V', 87: 'W', 88: 'X', 89: 'Y', 90: 'Z'}\n",
            "F\n"
          ]
        }
      ],
      "source": [
        "d = {i: chr(i) for i in range(65, 91)}\n",
        "print(d)\n",
        "print(d[70])"
      ]
    },
    {
      "cell_type": "markdown",
      "id": "c1e21462",
      "metadata": {
        "id": "c1e21462"
      },
      "source": [
        "**Упражнение 4.** Создайте аналогичный словарь для маленьких букв, выведите его, затем добавьте в него большие буквы и выведите итоговый словарь."
      ]
    },
    {
      "cell_type": "code",
      "execution_count": 16,
      "id": "bdc88da2",
      "metadata": {
        "colab": {
          "base_uri": "https://localhost:8080/"
        },
        "id": "bdc88da2",
        "outputId": "43b4ea64-33bc-4f7d-9968-b566e89c14a0"
      },
      "outputs": [
        {
          "output_type": "stream",
          "name": "stdout",
          "text": [
            "{97: 'a', 98: 'b', 99: 'c', 100: 'd', 101: 'e', 102: 'f', 103: 'g', 104: 'h', 105: 'i', 106: 'j', 107: 'k', 108: 'l', 109: 'm', 110: 'n', 111: 'o', 112: 'p', 113: 'q', 114: 'r', 115: 's', 116: 't', 117: 'u', 118: 'v', 119: 'w', 120: 'x', 121: 'y', 122: 'z', 65: 'A', 66: 'B', 67: 'C', 68: 'D', 69: 'E', 70: 'F', 71: 'G', 72: 'H', 73: 'I', 74: 'J', 75: 'K', 76: 'L', 77: 'M', 78: 'N', 79: 'O', 80: 'P', 81: 'Q', 82: 'R', 83: 'S', 84: 'T', 85: 'U', 86: 'V', 87: 'W', 88: 'X', 89: 'Y', 90: 'Z'}\n"
          ]
        }
      ],
      "source": [
        "dic = {i: chr(i) for i in range(97, 123)}\n",
        "for i in range(65, 91):\n",
        "  dic[i] = chr(i)\n",
        "print(dic)"
      ]
    },
    {
      "cell_type": "markdown",
      "id": "a7c957f4",
      "metadata": {
        "id": "a7c957f4"
      },
      "source": [
        "**Упражнение 5.** Создайте словарь, в котором каждой букве (как ключу) будет соответствовать ее порядковый номер в алфавите (значение). Рекомендация: использовать функции `keys`, `values` или `items` для словаря из предыдущего упражнения, чтобы создать новый."
      ]
    },
    {
      "cell_type": "code",
      "execution_count": 17,
      "id": "70071da3",
      "metadata": {
        "colab": {
          "base_uri": "https://localhost:8080/"
        },
        "id": "70071da3",
        "outputId": "14f99d63-4a5b-470d-ed2d-e532457c241b"
      },
      "outputs": [
        {
          "output_type": "stream",
          "name": "stdout",
          "text": [
            "{'a': 97, 'b': 98, 'c': 99, 'd': 100, 'e': 101, 'f': 102, 'g': 103, 'h': 104, 'i': 105, 'j': 106, 'k': 107, 'l': 108, 'm': 109, 'n': 110, 'o': 111, 'p': 112, 'q': 113, 'r': 114, 's': 115, 't': 116, 'u': 117, 'v': 118, 'w': 119, 'x': 120, 'y': 121, 'z': 122, 'A': 65, 'B': 66, 'C': 67, 'D': 68, 'E': 69, 'F': 70, 'G': 71, 'H': 72, 'I': 73, 'J': 74, 'K': 75, 'L': 76, 'M': 77, 'N': 78, 'O': 79, 'P': 80, 'Q': 81, 'R': 82, 'S': 83, 'T': 84, 'U': 85, 'V': 86, 'W': 87, 'X': 88, 'Y': 89, 'Z': 90}\n"
          ]
        }
      ],
      "source": [
        "d = {}\n",
        "for i in dic.values():\n",
        "  d[i] = ord(i)\n",
        "print(d)"
      ]
    },
    {
      "cell_type": "markdown",
      "id": "d4d2ca80",
      "metadata": {
        "id": "d4d2ca80"
      },
      "source": [
        "**Упражнение 6.** Считайте слово с клавиатуры и найдите для него сумму номеров букв. Если некоторые буквы в слове повторяются (используйте такое слово), нужно считать только по уникальным буквам. Например, для строк 'abc' и 'abcbc' сумма будет 1+2+3=6, для xyz или zyxyz 24+25+26=75"
      ]
    },
    {
      "cell_type": "code",
      "execution_count": 22,
      "id": "ab97878c",
      "metadata": {
        "colab": {
          "base_uri": "https://localhost:8080/"
        },
        "id": "ab97878c",
        "outputId": "612780ad-d5a4-4f58-eab8-47007ef7f684"
      },
      "outputs": [
        {
          "output_type": "stream",
          "name": "stdout",
          "text": [
            "xyz\n",
            "75\n"
          ]
        }
      ],
      "source": [
        "letters = set()\n",
        "word = input()\n",
        "for i in word:\n",
        "  letters.add(i)\n",
        "counter = 0\n",
        "for i in letters:\n",
        "  if ord(i) >= 97:\n",
        "    counter += ord(i) - 96\n",
        "  else:\n",
        "    counter += ord(i) - 64\n",
        "print(counter)"
      ]
    },
    {
      "cell_type": "markdown",
      "id": "8cb4046e",
      "metadata": {
        "id": "8cb4046e"
      },
      "source": [
        "**Упражнение 7.** Считайте с клавиатуры количество пар синонимов, затем сами пары синонимов, затем одно из слов среди этих пар. Выведите его синоним. Допишите код, заменив все TODO. Пример ввода:\n",
        "\n",
        "    3\n",
        "    Hello Hi\n",
        "    Bye Goodbye\n",
        "    List Array\n",
        "    Goodbye"
      ]
    },
    {
      "cell_type": "code",
      "execution_count": 26,
      "id": "7aea4c21",
      "metadata": {
        "colab": {
          "base_uri": "https://localhost:8080/"
        },
        "id": "7aea4c21",
        "outputId": "33f73cb7-757e-41cd-be90-ab62eef95574"
      },
      "outputs": [
        {
          "output_type": "stream",
          "name": "stdout",
          "text": [
            "3\n",
            "Hello Hi\n",
            "Goodbye Goodbye\n",
            "List Array\n",
            "Goodbye\n",
            "Goodbye\n"
          ]
        }
      ],
      "source": [
        "n = int(input())\n",
        "d = dict()\n",
        "for i in range(n):\n",
        "    s = input()\n",
        "    a = s.split()\n",
        "    b, c = a\n",
        "    d[b] = c\n",
        "    d[c] = b\n",
        "s = input()\n",
        "print(d[s])"
      ]
    },
    {
      "cell_type": "markdown",
      "id": "d4f833ac",
      "metadata": {
        "id": "d4f833ac"
      },
      "source": [
        "# Частотный анализ."
      ]
    },
    {
      "cell_type": "markdown",
      "id": "20546c74",
      "metadata": {
        "id": "20546c74"
      },
      "source": [
        "Вместо использования метода `count` для подсчета числа вхождений символа в большой текст лучше использовать `dict`. Для многократного поиска это будет работать быстрее, так как мы заполним словарь за один проход по данному тексту."
      ]
    },
    {
      "cell_type": "code",
      "execution_count": 27,
      "id": "97cbd7e4",
      "metadata": {
        "colab": {
          "base_uri": "https://localhost:8080/"
        },
        "id": "97cbd7e4",
        "outputId": "88bc6f41-4eb1-4621-a31f-4ed0d4a7111a"
      },
      "outputs": [
        {
          "output_type": "stream",
          "name": "stdout",
          "text": [
            "{'a': 5, 'b': 2, 'r': 2, 'c': 1, 'd': 1}\n"
          ]
        }
      ],
      "source": [
        "s = \"abracadabra\"\n",
        "d = dict()\n",
        "for i in s:\n",
        "    if i in d:\n",
        "        d[i] += 1\n",
        "    else:\n",
        "        d[i] = 1\n",
        "print(d)"
      ]
    },
    {
      "cell_type": "code",
      "execution_count": 28,
      "id": "1e25a4b0",
      "metadata": {
        "colab": {
          "base_uri": "https://localhost:8080/"
        },
        "id": "1e25a4b0",
        "outputId": "98d68803-75f4-4e20-c017-4cc8fe073f57"
      },
      "outputs": [
        {
          "output_type": "stream",
          "name": "stdout",
          "text": [
            "5\n",
            "5\n"
          ]
        }
      ],
      "source": [
        "print(s.count('a'))\n",
        "print(d['a'])"
      ]
    },
    {
      "cell_type": "code",
      "execution_count": 29,
      "id": "794b68f1",
      "metadata": {
        "colab": {
          "base_uri": "https://localhost:8080/"
        },
        "id": "794b68f1",
        "outputId": "4d199c11-069a-4355-ba67-7a5adf24c0e9"
      },
      "outputs": [
        {
          "output_type": "stream",
          "name": "stdout",
          "text": [
            "abracadabraabracadabraabracadabraabracadabraabracadabraabracadabraabracadabraabracadabraabracadabraa\n"
          ]
        }
      ],
      "source": [
        "s = \"abracadabra\" * 1000000\n",
        "print(s[:100])"
      ]
    },
    {
      "cell_type": "code",
      "execution_count": 30,
      "id": "aaa4527a",
      "metadata": {
        "colab": {
          "base_uri": "https://localhost:8080/"
        },
        "id": "aaa4527a",
        "outputId": "1d24496a-2b96-4a00-9fe5-b2f4b8f2a325"
      },
      "outputs": [
        {
          "output_type": "stream",
          "name": "stdout",
          "text": [
            "5000000\n",
            "0.0011279582977294922\n"
          ]
        }
      ],
      "source": [
        "import time\n",
        "d = dict()\n",
        "for i in s:\n",
        "    if i in d:\n",
        "        d[i] += 1\n",
        "    else:\n",
        "        d[i] = 1\n",
        "t1 = time.time()\n",
        "print(d['a'])\n",
        "t2 = time.time()\n",
        "print(t2 - t1)"
      ]
    },
    {
      "cell_type": "code",
      "execution_count": 31,
      "id": "0225f5e3",
      "metadata": {
        "colab": {
          "base_uri": "https://localhost:8080/"
        },
        "id": "0225f5e3",
        "outputId": "ea55b841-7dfe-4a26-a242-eaed2fb26f7d"
      },
      "outputs": [
        {
          "output_type": "stream",
          "name": "stdout",
          "text": [
            "5000000\n",
            "0.01514577865600586\n"
          ]
        }
      ],
      "source": [
        "t3 = time.time()\n",
        "print(s.count('a'))\n",
        "t4 = time.time()\n",
        "print(t4 - t3)"
      ]
    },
    {
      "cell_type": "markdown",
      "id": "fb903399",
      "metadata": {
        "id": "fb903399"
      },
      "source": [
        "**Упражнение 8**. Считайте с клавиатуры строку, удалите из нее все цифры и пробелы. Создайте словарь, в котором ключами будут уникальные символы, а значениями их частота вхождения. Частотой вхождения называется отношение числа вхождений данного символа в исходную строку к числу символов в исходной строке."
      ]
    },
    {
      "cell_type": "code",
      "execution_count": 43,
      "id": "a82c1e51",
      "metadata": {
        "colab": {
          "base_uri": "https://localhost:8080/"
        },
        "id": "a82c1e51",
        "outputId": "00ff36cd-6948-4f1a-e9d0-2dc5a94fa9a1"
      },
      "outputs": [
        {
          "output_type": "stream",
          "name": "stdout",
          "text": [
            "aab\n",
            "{'a': 0.6666666666666666, 'b': 0.3333333333333333}\n"
          ]
        }
      ],
      "source": [
        "s = input()\n",
        "s0 = ''\n",
        "sett = set()\n",
        "for i in range(48, 58):\n",
        "  sett.add(i)\n",
        "sett.add(32)\n",
        "for i in s:\n",
        "  if ord(i) not in sett:\n",
        "    s0 += i\n",
        "d = dict()\n",
        "for i in s0:\n",
        "    if i in d:\n",
        "        d[i] += 1\n",
        "    else:\n",
        "        d[i] = 1\n",
        "d0 = {}\n",
        "sum = 0\n",
        "for i in d.keys():\n",
        "  sum += d[i]\n",
        "for i in d.keys():\n",
        "  d0[i] = d[i]/sum\n",
        "print(d0)"
      ]
    },
    {
      "cell_type": "markdown",
      "id": "b082dac3",
      "metadata": {
        "id": "b082dac3"
      },
      "source": [
        "# Collections."
      ]
    },
    {
      "cell_type": "markdown",
      "id": "ce4947f8",
      "metadata": {
        "id": "ce4947f8"
      },
      "source": [
        "Существуют также другие стандартные коллекции, которые позволяют решать некоторые задачи еще проще."
      ]
    },
    {
      "cell_type": "code",
      "execution_count": 44,
      "id": "57a20035",
      "metadata": {
        "colab": {
          "base_uri": "https://localhost:8080/"
        },
        "id": "57a20035",
        "outputId": "9885f087-9ed9-4ca0-97b7-3ad6297eca5e"
      },
      "outputs": [
        {
          "output_type": "execute_result",
          "data": {
            "text/plain": [
              "Counter({'red': 2, 'blue': 3, 'green': 1})"
            ]
          },
          "metadata": {},
          "execution_count": 44
        }
      ],
      "source": [
        "import collections\n",
        "cnt = collections.Counter()\n",
        "for word in ['red', 'blue', 'red', 'green', 'blue', 'blue']:\n",
        "    cnt[word] += 1\n",
        "cnt"
      ]
    },
    {
      "cell_type": "code",
      "execution_count": 45,
      "id": "81553050",
      "metadata": {
        "colab": {
          "base_uri": "https://localhost:8080/"
        },
        "id": "81553050",
        "outputId": "fc6562b7-0650-4ade-d8c5-9f857b6adf09"
      },
      "outputs": [
        {
          "output_type": "execute_result",
          "data": {
            "text/plain": [
              "2"
            ]
          },
          "metadata": {},
          "execution_count": 45
        }
      ],
      "source": [
        "cnt['red']"
      ]
    },
    {
      "cell_type": "markdown",
      "id": "0834fd23",
      "metadata": {
        "id": "0834fd23"
      },
      "source": [
        "Можно сократить запись, переимпортировав из библиотеки конкретный модуль:"
      ]
    },
    {
      "cell_type": "code",
      "execution_count": 46,
      "id": "4dd6f478",
      "metadata": {
        "colab": {
          "base_uri": "https://localhost:8080/"
        },
        "id": "4dd6f478",
        "outputId": "f5309e3a-da7c-46c1-fb3f-bb62e4c0dd92"
      },
      "outputs": [
        {
          "output_type": "stream",
          "name": "stdout",
          "text": [
            "['a', 'a', 'a', 'a', 'b', 'b']\n"
          ]
        }
      ],
      "source": [
        "from collections import Counter\n",
        "c = Counter(a=4, b=2, c=0, d=-2)\n",
        "print(sorted(c.elements()))"
      ]
    },
    {
      "cell_type": "code",
      "execution_count": 47,
      "id": "d4c0fb62",
      "metadata": {
        "colab": {
          "base_uri": "https://localhost:8080/"
        },
        "id": "d4c0fb62",
        "outputId": "f1d43370-cc3d-494c-e011-d225fc981133"
      },
      "outputs": [
        {
          "output_type": "stream",
          "name": "stdout",
          "text": [
            "[('a', 5), ('b', 2), ('r', 2)]\n"
          ]
        }
      ],
      "source": [
        "print(collections.Counter('abracadabra').most_common(3))"
      ]
    },
    {
      "cell_type": "code",
      "execution_count": 48,
      "id": "77eec292",
      "metadata": {
        "colab": {
          "base_uri": "https://localhost:8080/"
        },
        "id": "77eec292",
        "outputId": "e7249a10-f533-452c-fb40-b10090f066d3"
      },
      "outputs": [
        {
          "output_type": "stream",
          "name": "stdout",
          "text": [
            "Counter({'a': 3, 'b': 0, 'c': -3, 'd': -6})\n"
          ]
        }
      ],
      "source": [
        "c = Counter(a=4, b=2, c=0, d=-2)\n",
        "d = Counter(a=1, b=2, c=3, d=4)\n",
        "c.subtract(d)\n",
        "print(c)"
      ]
    },
    {
      "cell_type": "code",
      "execution_count": 49,
      "id": "cb239bab",
      "metadata": {
        "colab": {
          "base_uri": "https://localhost:8080/",
          "height": 181
        },
        "id": "cb239bab",
        "outputId": "4045a3dc-bde2-4c5c-9ff8-ebd5b22c861a"
      },
      "outputs": [
        {
          "output_type": "error",
          "ename": "AttributeError",
          "evalue": "ignored",
          "traceback": [
            "\u001b[0;31m---------------------------------------------------------------------------\u001b[0m",
            "\u001b[0;31mAttributeError\u001b[0m                            Traceback (most recent call last)",
            "\u001b[0;32m<ipython-input-49-fe7a556fb144>\u001b[0m in \u001b[0;36m<module>\u001b[0;34m\u001b[0m\n\u001b[1;32m      1\u001b[0m \u001b[0mc\u001b[0m \u001b[0;34m=\u001b[0m \u001b[0mCounter\u001b[0m\u001b[0;34m(\u001b[0m\u001b[0ma\u001b[0m\u001b[0;34m=\u001b[0m\u001b[0;36m10\u001b[0m\u001b[0;34m,\u001b[0m \u001b[0mb\u001b[0m\u001b[0;34m=\u001b[0m\u001b[0;36m5\u001b[0m\u001b[0;34m,\u001b[0m \u001b[0mc\u001b[0m\u001b[0;34m=\u001b[0m\u001b[0;36m0\u001b[0m\u001b[0;34m)\u001b[0m\u001b[0;34m\u001b[0m\u001b[0;34m\u001b[0m\u001b[0m\n\u001b[0;32m----> 2\u001b[0;31m \u001b[0mc\u001b[0m\u001b[0;34m.\u001b[0m\u001b[0mtotal\u001b[0m\u001b[0;34m(\u001b[0m\u001b[0;34m)\u001b[0m \u001b[0;31m# new for Python 3.10+\u001b[0m\u001b[0;34m\u001b[0m\u001b[0;34m\u001b[0m\u001b[0m\n\u001b[0m",
            "\u001b[0;31mAttributeError\u001b[0m: 'Counter' object has no attribute 'total'"
          ]
        }
      ],
      "source": [
        "c = Counter(a=10, b=5, c=0)\n",
        "c.total() # new for Python 3.10+"
      ]
    },
    {
      "cell_type": "markdown",
      "id": "bfddca35",
      "metadata": {
        "id": "bfddca35"
      },
      "source": [
        "С другими коллекциями вы можете познакомиться самостоятельно, их использование выходит за рамки упражнений и контеста."
      ]
    },
    {
      "cell_type": "code",
      "execution_count": null,
      "id": "38c7c7d0",
      "metadata": {
        "id": "38c7c7d0"
      },
      "outputs": [],
      "source": []
    }
  ],
  "metadata": {
    "kernelspec": {
      "display_name": "Python 3 (ipykernel)",
      "language": "python",
      "name": "python3"
    },
    "language_info": {
      "codemirror_mode": {
        "name": "ipython",
        "version": 3
      },
      "file_extension": ".py",
      "mimetype": "text/x-python",
      "name": "python",
      "nbconvert_exporter": "python",
      "pygments_lexer": "ipython3",
      "version": "3.7.11"
    },
    "colab": {
      "provenance": [],
      "collapsed_sections": [
        "b1a52ec5"
      ]
    }
  },
  "nbformat": 4,
  "nbformat_minor": 5
}